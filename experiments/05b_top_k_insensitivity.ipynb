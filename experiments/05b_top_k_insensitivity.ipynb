{
 "cells": [
  {
   "cell_type": "code",
   "execution_count": 111,
   "metadata": {},
   "outputs": [],
   "source": [
    "import glob\n",
    "from datetime import datetime\n",
    "\n",
    "import pandas as pd\n",
    "\n",
    "import seaborn as sns\n",
    "import matplotlib.pyplot as plt\n",
    "\n",
    "import warnings \n",
    "warnings.filterwarnings('ignore')"
   ]
  },
  {
   "cell_type": "code",
   "execution_count": 112,
   "metadata": {},
   "outputs": [],
   "source": [
    "plt.rcParams['figure.dpi'] = 200\n",
    "plt.rcParams['savefig.dpi'] = 600\n",
    "plt.rcParams['lines.markersize'] = 10 \n",
    "\n",
    "path = \"top_k_insensitivity\""
   ]
  },
  {
   "cell_type": "code",
   "execution_count": 113,
   "metadata": {},
   "outputs": [],
   "source": [
    "def clean_measure_name(df_col):\n",
    "    return df_col\\\n",
    "                .str.replace(\"IFD_div$\", \"IFD_div_ori\", regex=True)\\\n",
    "                .str.replace(\"_div\", \"$_\\\\div$\", regex=False)\n",
    "\n",
    "def separate_measure_version(df_col):\n",
    "    return df_col.str.rsplit(\"_\", n=1, expand=True)"
   ]
  },
  {
   "cell_type": "code",
   "execution_count": 114,
   "metadata": {},
   "outputs": [],
   "source": [
    "def load_result(path):\n",
    "    list_files = glob.glob(f\"{path}/*.pickle\")\n",
    "    \n",
    "    \n",
    "    df_all = pd.DataFrame()\n",
    "\n",
    "    for file in list_files:\n",
    "      \n",
    "        dataset = file\\\n",
    "                    .replace(\".pickle\",\"\")\\\n",
    "                    .split(\"_\")[3]\n",
    "\n",
    "        df_for_file = pd.DataFrame()\n",
    "        \n",
    "        result_dict = pd.read_pickle(file)\n",
    "        cols = pd.Series(result_dict)\n",
    "\n",
    "        df_for_file[\"measure\"] = cols.index\n",
    "        df_for_file[\"unfairness\"] = cols.values\n",
    "        df_for_file[\"dataset\"] = dataset\n",
    "\n",
    "        df_for_file[\"measure\"] = clean_measure_name(df_for_file[\"measure\"])\n",
    "        df_for_file[[\"measure\",\"version\"]] = separate_measure_version(df_for_file[\"measure\"])\n",
    "\n",
    "        df_for_file[[\"version\",\"cut-off $k$\"]] = df_for_file[\"version\"].str\\\n",
    "                                                    .split(\"@\", expand=True)\n",
    "        \n",
    "        df_for_file[\"cut-off $k$\"] = df_for_file[\"cut-off $k$\"].astype(int)\n",
    "\n",
    "        df_all = pd.concat([df_all, df_for_file], ignore_index=True)\n",
    "\n",
    "    df_all.dropna(inplace=True)\n",
    "    df_all.reset_index(drop=True, inplace=True)\n",
    " \n",
    "    return df_all\n",
    "\n",
    "df_all = load_result(path)"
   ]
  },
  {
   "cell_type": "code",
   "execution_count": 115,
   "metadata": {},
   "outputs": [],
   "source": [
    "df_all[\"measure\"] = df_all[\"measure\"] + \"$_{\" + df_all[\"version\"] + \"}$\"\n",
    "df_all[\"measure\"] = df_all.measure.str.replace(\"ori-cut-off}$\", \"ori}$ + $J_{\\ our}}$\", regex=False)\n",
    "\n",
    "list_k = df_all[\"cut-off $k$\"].unique()"
   ]
  },
  {
   "cell_type": "code",
   "execution_count": 116,
   "metadata": {},
   "outputs": [],
   "source": [
    "selected_index = [\"Lastfm\", \"Amazon-lb\", \"QK-video\", \"ML-10M\"]"
   ]
  },
  {
   "cell_type": "code",
   "execution_count": 117,
   "metadata": {},
   "outputs": [],
   "source": [
    "df_all = df_all.set_index([\"dataset\",\"measure\",\"version\", \"cut-off $k$\",])\n",
    "df_all = df_all.reindex(selected_index, level=0)\n",
    "df_all.reset_index(inplace=True)"
   ]
  },
  {
   "cell_type": "code",
   "execution_count": null,
   "metadata": {},
   "outputs": [],
   "source": [
    "import matplotlib.ticker as ticker\n",
    "\n",
    "colors = sns.color_palette(\"colorblind\")\n",
    "list_col = [colors[3], colors[1], colors[2]]\n",
    "\n",
    "markers = [\"X\", (4,0,45), \"o\"]\n",
    "plotting_kws = dict(x=\"cut-off $k$\", y=\"unfairness\", hue=\"measure\", kind=\"line\", \n",
    "                    col=\"dataset\", \n",
    "                    style=\"measure\", \n",
    "                    palette=list_col,\n",
    "                    markers=markers, dashes=True, \n",
    "                    aspect=1, \n",
    "                    height=2.25,\n",
    "                    )\n",
    "facet_kws = {\n",
    "              'sharey': False, \n",
    "              \"margin_titles\":True, \n",
    "              \"legend_out\": True,\n",
    "              }\n",
    "grid = sns.relplot(df_all, facet_kws=facet_kws, **plotting_kws)\n",
    "grid.set_titles(col_template = '{col_name}',size=10)\n",
    "\n",
    "grid.set(xticks=list_k)\n",
    "for ax in grid.axes.flatten():\n",
    "    # ax.xaxis.label.set_size(fontsize=7)\n",
    "    ax.tick_params(axis='both', which='major', labelsize=7, rotation=0)\n",
    "    for _, spine in ax.spines.items():\n",
    "        spine.set_visible(True) \n",
    "\n",
    "\n",
    "\n",
    "sns.move_legend(grid, loc=\"lower center\", ncols=3, \n",
    "                bbox_to_anchor=(0.525, 1.025), \n",
    "                frameon=True,fontsize=10, \n",
    "                title=None, markerscale=0.65)\n",
    "\n",
    "for ha in grid._legend.legendHandles:\n",
    "    ha.set_mew(0.4)\n",
    "    ha.set_markeredgecolor(\"white\")\n",
    "\n",
    "grid.fig.tight_layout(w_pad=0.55)\n",
    "\n",
    "now = datetime.now()\n",
    "time = str(now.strftime(\"%Y-%m-%d_%H%M%S\"))\n",
    "grid.savefig(f\"{path}/{path}_{time}.pdf\",bbox_inches=\"tight\")   "
   ]
  }
 ],
 "metadata": {
  "kernelspec": {
   "display_name": "trustextend",
   "language": "python",
   "name": "python3"
  },
  "language_info": {
   "codemirror_mode": {
    "name": "ipython",
    "version": 3
   },
   "file_extension": ".py",
   "mimetype": "text/x-python",
   "name": "python",
   "nbconvert_exporter": "python",
   "pygments_lexer": "ipython3",
   "version": "3.10.11"
  }
 },
 "nbformat": 4,
 "nbformat_minor": 2
}
